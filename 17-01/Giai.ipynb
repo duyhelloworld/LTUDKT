{
 "cells": [
  {
   "cell_type": "code",
   "execution_count": 6,
   "metadata": {},
   "outputs": [
    {
     "name": "stdout",
     "output_type": "stream",
     "text": [
      "Loi : chi nhap chu / so\n",
      "Loi : chi nhap chu / so\n",
      "Loi : chi nhap chu / so\n"
     ]
    },
    {
     "data": {
      "text/plain": [
       "''"
      ]
     },
     "execution_count": 6,
     "metadata": {},
     "output_type": "execute_result"
    }
   ],
   "source": [
    "ip = []\n",
    "# n = int(input(\"Nhap dai : \"))\n",
    "n = 3\n",
    "so = \"\"\n",
    "chu = \"\"\n",
    "for i in range(n):\n",
    "\n",
    "    data = input(f\"Nhập kí tự thứ {i} : \")\n",
    "\n",
    "    while not str(data).isalnum():\n",
    "        print(\"Lỗi : chỉ nhập chữ hoặc số!!!\")\n",
    "        data = input(f\"Nhập lại kí tự thứ {i} : \")\n",
    "\n",
    "    if str(data).isdigit():\n",
    "        so = so + data\n",
    "    else:\n",
    "        chu = chu + data\n",
    "so + chu"
   ]
  },
  {
   "cell_type": "code",
   "execution_count": null,
   "metadata": {},
   "outputs": [],
   "source": []
  }
 ],
 "metadata": {
  "kernelspec": {
   "display_name": "Python 3",
   "language": "python",
   "name": "python3"
  },
  "language_info": {
   "codemirror_mode": {
    "name": "ipython",
    "version": 3
   },
   "file_extension": ".py",
   "mimetype": "text/x-python",
   "name": "python",
   "nbconvert_exporter": "python",
   "pygments_lexer": "ipython3",
   "version": "3.12.1"
  }
 },
 "nbformat": 4,
 "nbformat_minor": 2
}
