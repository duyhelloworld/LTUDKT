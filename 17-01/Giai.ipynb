{
 "cells": [
  {
   "cell_type": "code",
   "execution_count": 1,
   "metadata": {},
   "outputs": [
    {
     "data": {
      "text/plain": [
       "'123'"
      ]
     },
     "execution_count": 1,
     "metadata": {},
     "output_type": "execute_result"
    }
   ],
   "source": [
    "ip = []\n",
    "# n = int(input(\"Nhap dai : \"))\n",
    "n = 3\n",
    "so = \"\"\n",
    "chu = \"\"\n",
    "for i in range(n):\n",
    "\n",
    "    data = input(f\"Nhập kí tự thứ {i+1} : \")\n",
    "    while not data.isalnum():\n",
    "        print(\"Lỗi : chỉ nhập chữ hoặc số!!!\")\n",
    "        data = input(f\"Nhập lại kí tự thứ {i+1} : \")\n",
    "\n",
    "    if data.isdigit():\n",
    "        so = so + data\n",
    "    else:\n",
    "        chu = chu + data\n",
    "so + chu"
   ]
  }
 ],
 "metadata": {
  "kernelspec": {
   "display_name": "Python 3",
   "language": "python",
   "name": "python3"
  },
  "language_info": {
   "codemirror_mode": {
    "name": "ipython",
    "version": 3
   },
   "file_extension": ".py",
   "mimetype": "text/x-python",
   "name": "python",
   "nbconvert_exporter": "python",
   "pygments_lexer": "ipython3",
   "version": "3.12.1"
  }
 },
 "nbformat": 4,
 "nbformat_minor": 2
}
