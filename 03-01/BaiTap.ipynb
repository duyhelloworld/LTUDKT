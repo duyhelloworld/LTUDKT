{
 "cells": [
  {
   "cell_type": "code",
   "execution_count": 1,
   "metadata": {},
   "outputs": [
    {
     "name": "stdout",
     "output_type": "stream",
     "text": [
      "Tổng a+b=3\n",
      "Hiệu a-b=-1\n",
      "Tích a*b=2\n",
      "Thương a/b=0.5\n"
     ]
    }
   ],
   "source": [
    "try:\n",
    "    a = int(input(\"Nhập a: \"))\n",
    "    b = int(input(\"Nhập b: \"))\n",
    "    print(f\"Tổng a+b={a+b}\")\n",
    "    print(f\"Hiệu a-b={a-b}\")\n",
    "    print(f\"Tích a*b={a*b}\")\n",
    "    print(f\"Thương a/b={a/b}\") \n",
    "except ValueError:\n",
    "    print('Vui lòng nhập số nguyên')\n",
    "except ZeroDivisionError:\n",
    "    print('Nhập b khác 0')"
   ]
  },
  {
   "cell_type": "code",
   "execution_count": 2,
   "metadata": {},
   "outputs": [
    {
     "data": {
      "text/plain": [
       "'Độ dài str là 1'"
      ]
     },
     "execution_count": 2,
     "metadata": {},
     "output_type": "execute_result"
    }
   ],
   "source": [
    "strr = input(\"Nhập chuỗi: \")\n",
    "f\"Độ dài str là {len(strr)}\""
   ]
  },
  {
   "cell_type": "code",
   "execution_count": 3,
   "metadata": {},
   "outputs": [
    {
     "name": "stdout",
     "output_type": "stream",
     "text": [
      "Số 1 là số lẻ\n"
     ]
    }
   ],
   "source": [
    "try:\n",
    "    so = int(input('Nhập 1 số nguyên: '))\n",
    "    print(f'Số {so} là số {\"chẵn\" if so % 2 == 0 else \"lẻ\"}')\n",
    "except ValueError:\n",
    "    print(f'Nhập vào số nguyên, không phải kí tự hay số có dấu phẩy')"
   ]
  },
  {
   "cell_type": "code",
   "execution_count": 7,
   "metadata": {},
   "outputs": [
    {
     "data": {
      "text/plain": [
       "False"
      ]
     },
     "execution_count": 7,
     "metadata": {},
     "output_type": "execute_result"
    }
   ],
   "source": [
    "str.isidentifier(\"1\")"
   ]
  },
  {
   "cell_type": "code",
   "execution_count": 9,
   "metadata": {},
   "outputs": [
    {
     "data": {
      "text/plain": [
       "False"
      ]
     },
     "execution_count": 9,
     "metadata": {},
     "output_type": "execute_result"
    }
   ],
   "source": [
    "\"â\".isascii()"
   ]
  },
  {
   "cell_type": "code",
   "execution_count": 10,
   "metadata": {},
   "outputs": [],
   "source": [
    "class Animal(object):\n",
    "    def __init__(self, name, legs, type, color, age, owner):\n",
    "        self.name = name\n",
    "        self.legs = legs\n",
    "        self.type = type\n",
    "        self.color = color\n",
    "        self.age = age\n",
    "        self.owner = owner\n",
    "    def __str__(self) -> str:\n",
    "        return f'''Animal: {self.name},\n",
    "            legs: {self.legs},\n",
    "            type: {self.type},\n",
    "            color: {self.color},\n",
    "            age: {self.age},\n",
    "            owner: {self.owner}\\n'''\n",
    "    def speak() -> None:\n",
    "        pass"
   ]
  },
  {
   "cell_type": "code",
   "execution_count": 17,
   "metadata": {},
   "outputs": [],
   "source": [
    "class Dog(Animal):\n",
    "    def __init__(self, type, color, age, owner):\n",
    "        # Nên gọi super init lại vì khi ghi hàm init ở con --> init của cha bị ghi đè\n",
    "        super().__init__(\"Dog\", 4, type, color, age, owner)\n",
    "        # super() = Animal nên có thể thay thế nhau\n",
    "        \n",
    "d = Dog(\"Pitbull\", \"Black\", 18, \"Pham Duy\")\n",
    "# d.age\n",
    "d.weight = 70\n",
    "# d.weight\n",
    "del d.weight\n",
    "# d.weight\n",
    "del d"
   ]
  }
 ],
 "metadata": {
  "kernelspec": {
   "display_name": "Python 3",
   "language": "python",
   "name": "python3"
  },
  "language_info": {
   "codemirror_mode": {
    "name": "ipython",
    "version": 3
   },
   "file_extension": ".py",
   "mimetype": "text/x-python",
   "name": "python",
   "nbconvert_exporter": "python",
   "pygments_lexer": "ipython3",
   "version": "3.12.1"
  }
 },
 "nbformat": 4,
 "nbformat_minor": 2
}
