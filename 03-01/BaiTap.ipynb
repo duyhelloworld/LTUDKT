{
 "cells": [
  {
   "cell_type": "code",
   "execution_count": 1,
   "metadata": {},
   "outputs": [
    {
     "name": "stdout",
     "output_type": "stream",
     "text": [
      "Tong a+b=3\n",
      "Hieu a-b=-1\n",
      "Tich a*b=2\n",
      "Thuong a/b=0.5\n"
     ]
    }
   ],
   "source": [
    "try:\n",
    "    a = int(input(\"Nhập a: \"))\n",
    "    b = int(input(\"Nhập b: \"))\n",
    "    print(f\"Tổng a+b={a+b}\")\n",
    "    print(f\"Hiệu a-b={a-b}\")\n",
    "    print(f\"Tích a*b={a*b}\")\n",
    "    print(f\"Thương a/b={a/b}\") \n",
    "except ValueError:\n",
    "    print('Vui lòng nhập số nguyên')\n",
    "except ZeroDivisionError:\n",
    "    print('Nhập b khác 0')"
   ]
  },
  {
   "cell_type": "code",
   "execution_count": 3,
   "metadata": {},
   "outputs": [
    {
     "data": {
      "text/plain": [
       "'Do dai str la 1'"
      ]
     },
     "execution_count": 3,
     "metadata": {},
     "output_type": "execute_result"
    }
   ],
   "source": [
    "strr = input(\"Nhập chuỗi: \")\n",
    "f\"Độ dài str là {len(strr)}\""
   ]
  },
  {
   "cell_type": "code",
   "execution_count": 10,
   "metadata": {},
   "outputs": [
    {
     "name": "stdout",
     "output_type": "stream",
     "text": [
      "Nhập vào số nguyên, không phải kí tự hay số có ,\n"
     ]
    }
   ],
   "source": [
    "try:\n",
    "    so = int(input('Nhập 1 số nguyên: '))\n",
    "    print(f'Số {so} là số {\"chẵn\" if so % 2 == 0 else \"lẻ\"}')\n",
    "except ValueError:\n",
    "    print(f'Nhập vào số nguyên, không phải kí tự hay số có dấu phẩy')"
   ]
  }
 ],
 "metadata": {
  "kernelspec": {
   "display_name": "Python 3",
   "language": "python",
   "name": "python3"
  },
  "language_info": {
   "codemirror_mode": {
    "name": "ipython",
    "version": 3
   },
   "file_extension": ".py",
   "mimetype": "text/x-python",
   "name": "python",
   "nbconvert_exporter": "python",
   "pygments_lexer": "ipython3",
   "version": "3.12.1"
  }
 },
 "nbformat": 4,
 "nbformat_minor": 2
}
